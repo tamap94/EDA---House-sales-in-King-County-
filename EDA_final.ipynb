{
 "cells": [
  {
   "cell_type": "markdown",
   "id": "9fab88bf-7592-406b-9e2e-ea60a35dc0de",
   "metadata": {},
   "source": [
    "# First EDA project - Analysing house sales data in King County (USA)\n",
    "\n",
    "### Creator - Tamara Pallien, Data Science Bootcamp neueFische 13.06.- 09.09.2022\n",
    "\n",
    "## The aim\n",
    "\n",
    "The aim of this project is using exploratory data analysis (EDA) techniques to present the results to a stakeholder and give recommendations about where he could find his dream house. In the first part EDA/statistical analysis will be used to get some information about the data. In the second part, several recommendations which meet the interests of your stakeholder will be presented. This will be mainly done with an already filtered dataset meeting the stakeholder's interest and using geographical maps. \n",
    "\n",
    "\n",
    "## The data\n",
    "\n",
    "The King County Housing Data dataset contains information about home sales in King County (USA).\n",
    "In this project the stakeholder 'Jacob Phillips' was chosen. He wants to buy a house in the Kind County area. He has unlimited budget, wants 4+ bathrooms or smaller house nearby, big lot (tennis court & pool), golf, historic and no waterfront.  \n",
    "\n",
    "## Outline \n",
    "\n",
    "1) General investigation of the dataset\n",
    "2) Filtering the dataset according to the stakeholder's taste\n",
    "3) Show the geographic location of the selected houses \n",
    "4) Conclusion and recommendation "
   ]
  },
  {
   "cell_type": "markdown",
   "id": "3cfbe541-870c-4ce3-bdc8-24fa3d2a5ff7",
   "metadata": {},
   "source": [
    "# 1) General investigation of the dataset\n",
    "For the initial investigation of the dataset, the workflow from Nimit Vanawat was used as kind of the template, since I really like the way he approaches this (https://www.analyticsvidhya.com/blog/2021/08/how-to-perform-exploratory-data-analysis-a-guide-for-beginners/). "
   ]
  },
  {
   "cell_type": "code",
   "execution_count": 1,
   "id": "73480594-2570-4f4d-b226-26a6c5b6cd45",
   "metadata": {},
   "outputs": [
    {
     "ename": "ModuleNotFoundError",
     "evalue": "No module named 'pandas'",
     "output_type": "error",
     "traceback": [
      "\u001b[0;31m---------------------------------------------------------------------------\u001b[0m",
      "\u001b[0;31mModuleNotFoundError\u001b[0m                       Traceback (most recent call last)",
      "Input \u001b[0;32mIn [1]\u001b[0m, in \u001b[0;36m<cell line: 8>\u001b[0;34m()\u001b[0m\n\u001b[1;32m      4\u001b[0m \u001b[38;5;28;01mimport\u001b[39;00m \u001b[38;5;21;01mwarnings\u001b[39;00m\n\u001b[1;32m      6\u001b[0m warnings\u001b[38;5;241m.\u001b[39mfilterwarnings(\u001b[38;5;124m\"\u001b[39m\u001b[38;5;124mignore\u001b[39m\u001b[38;5;124m\"\u001b[39m)\n\u001b[0;32m----> 8\u001b[0m \u001b[38;5;28;01mimport\u001b[39;00m \u001b[38;5;21;01mpandas\u001b[39;00m \u001b[38;5;28;01mas\u001b[39;00m \u001b[38;5;21;01mpd\u001b[39;00m\n\u001b[1;32m      9\u001b[0m \u001b[38;5;28;01mimport\u001b[39;00m \u001b[38;5;21;01mnumpy\u001b[39;00m \u001b[38;5;28;01mas\u001b[39;00m \u001b[38;5;21;01mnp\u001b[39;00m\n\u001b[1;32m     10\u001b[0m \u001b[38;5;28;01mimport\u001b[39;00m \u001b[38;5;21;01mmatplotlib\u001b[39;00m\u001b[38;5;21;01m.\u001b[39;00m\u001b[38;5;21;01mpyplot\u001b[39;00m \u001b[38;5;28;01mas\u001b[39;00m \u001b[38;5;21;01mplt\u001b[39;00m\n",
      "\u001b[0;31mModuleNotFoundError\u001b[0m: No module named 'pandas'"
     ]
    }
   ],
   "source": [
    "#Import all the required libraries\n",
    "#load the dataset\n",
    "\n",
    "import warnings\n",
    "\n",
    "warnings.filterwarnings(\"ignore\")\n",
    "\n",
    "import pandas as pd\n",
    "import numpy as np\n",
    "import matplotlib.pyplot as plt\n",
    "import seaborn as sns\n",
    "import plotly.express as px\n",
    "import folium\n",
    "from folium import plugins\n",
    "from folium.plugins import HeatMap\n",
    "from folium.plugins import MarkerCluster\n",
    "import branca.colormap as cm\n"
   ]
  },
  {
   "cell_type": "code",
   "execution_count": null,
   "id": "6a71f99c-9d70-4b04-b01d-d06ac42d45ff",
   "metadata": {},
   "outputs": [],
   "source": [
    "df = pd.read_csv('data/King_County_House_prices_dataset.csv')\n",
    "df.head(2)"
   ]
  },
  {
   "cell_type": "markdown",
   "id": "ee3f1038-2b73-4810-b22c-d552da9e53e8",
   "metadata": {},
   "source": [
    "As one can see our dataset consists of 21 different columns that contain all the information about the different houses and when they got sold. What I next want to do is to find out if there are any missing values in the dataset. "
   ]
  },
  {
   "cell_type": "code",
   "execution_count": null,
   "id": "0eb08ba8-1b8d-44f4-ab9c-a93341cd5241",
   "metadata": {},
   "outputs": [],
   "source": [
    "df.isnull().sum()"
   ]
  },
  {
   "cell_type": "markdown",
   "id": "f8b30bbf-d98c-44ce-848f-7b2ddf5a911e",
   "metadata": {},
   "source": [
    "One can observe, that especially the 'waterfront' and the 'yr_renovated' columns contain a lot of zero values. This makes sense, because of lot of houses probably do not have a waterfront or have not been renovated yet. \n",
    "We want to replace the NaN symbols with a '0' to not have problems later during the plotting. In this case it does not make sense to replace the NaN with for example mean values, since I just assume for simplicity, that NaN means that the house does not have a waterfront, have not been viewed or renovated. "
   ]
  },
  {
   "cell_type": "code",
   "execution_count": null,
   "id": "a368e431-a0e4-46cb-b62d-b3707d8f4f7b",
   "metadata": {},
   "outputs": [],
   "source": [
    "#A for loop is used to iterate through all the entries in the three columns and replace the NaN with a 0\n",
    "\n",
    "change_col = ['waterfront', 'view',  'yr_renovated']\n",
    "for col in change_col:\n",
    "    df[col]=pd.to_numeric(df[col])\n",
    "    df[col].fillna(0, inplace=True)\n",
    "df.head(2)"
   ]
  },
  {
   "cell_type": "code",
   "execution_count": null,
   "id": "b6427d85-dcfa-4291-b633-f605834ce349",
   "metadata": {},
   "outputs": [],
   "source": [
    "df.isnull().sum()"
   ]
  },
  {
   "cell_type": "markdown",
   "id": "d5bc1a5f-5569-4f83-b40b-572c883a1cc8",
   "metadata": {},
   "source": [
    "Now, one can see that for example in the 'waterfront' column the value at index No. 0 (first row) which initially showed us a NaN is now giving us a 0.\n",
    "To get a feeling for which column values might correlate with each other, a heatmap of the whole dataset is generated. "
   ]
  },
  {
   "cell_type": "code",
   "execution_count": null,
   "id": "b5ad404a-52cc-4523-8b1b-d9d8abf53319",
   "metadata": {},
   "outputs": [],
   "source": [
    "plt.figure(figsize=(15,15))\n",
    "sns.heatmap(df.corr(),cbar=True,annot=True,cmap='Blues');\n",
    "#the column information of the data frame is used to label columns and rows \n",
    "#annot = True writes the data value in each cell "
   ]
  },
  {
   "cell_type": "markdown",
   "id": "b11523bd-0507-479c-8759-3b9d2e4ba13a",
   "metadata": {},
   "source": [
    "This heatmap shows the correlation between the different column values with the value 1 representing a 100% correlation. Some attributes that were expected to correlate indeed do correlate, like the lot size of a house positively correlates with the lot size of the neighbouring houses. Or the size of the above area correlates with the total living area. What might be interesting is also that the area of living is not necessarily related to the area of the whole lot. \n",
    "For the parameters that my stakeholder is interested the heatmap shows a positive correlation between the amount of bathrooms and the price. There is also a positive correlation between the amount of bathrooms and the age of the building, indicating that the older buildings have less bathrooms. Further the size of the lot is positively correlated with the lot size of the neighbours. \n",
    "\n",
    "### Analyze if there is a correlation between house size, lot size and lot size of neighbours"
   ]
  },
  {
   "cell_type": "code",
   "execution_count": null,
   "id": "edb5c99c-7727-49b7-9b47-5938621fec6c",
   "metadata": {},
   "outputs": [],
   "source": [
    "#a seaborn scatterplot is used to analyze the correlation of the two columns defined in x and y \n",
    "\n",
    "sns.scatterplot(data=df, x='sqft_lot', y='sqft_living')\n",
    "plt.title('Correlation of lot size and house size', fontsize=18)\n",
    "plt.xlabel('Lot size in square feet', fontsize = 12, )\n",
    "plt.ylabel('House size in square feet', fontsize = 12);"
   ]
  },
  {
   "cell_type": "markdown",
   "id": "a3819920-de34-427a-b2a7-ef3cc04c6071",
   "metadata": {},
   "source": [
    "This plot shows that also the smaller lots might have big house, which is slightly different from what I expected. This means, that for example having a big house with more than four bathrooms does not necessarily mean that there is enough space for a swimmimg pool and tennis court. We will later use the garden area alone without the size for the house to determine the treshold. In the next plot the correlation of lot size will be compared to that one of the houses nearby. This would indicate if it makes sense to focus on one area to search for houses, or if this is totally random."
   ]
  },
  {
   "cell_type": "code",
   "execution_count": null,
   "id": "1b84638a-fc68-4c71-be2b-aaad95dcc859",
   "metadata": {},
   "outputs": [],
   "source": [
    "#check the distribution of lot size to eventually remove outliers\n",
    "df.sqft_lot.plot(kind = 'box')\n",
    "\n",
    "plt.title('Distribution of lot size', fontsize=18)\n",
    "plt.ylabel('Lot size in sqft', fontsize=16);"
   ]
  },
  {
   "cell_type": "markdown",
   "id": "6a37d15c-c503-428c-b66a-58796d9fecbe",
   "metadata": {},
   "source": [
    "Looking at this graph we see that there a many outliers. We still plot the lot size with the one of the neigbours using scatter plot. "
   ]
  },
  {
   "cell_type": "code",
   "execution_count": null,
   "id": "0dceda89-5030-4c12-a6e7-181458acb622",
   "metadata": {},
   "outputs": [],
   "source": [
    "sns.scatterplot(data=df, x='sqft_lot', y='sqft_lot15')\n",
    "plt.title('Correlation of lot size and lot size of neighbouring houses', fontsize=18)\n",
    "plt.xlabel('Lot size in square feet', fontsize = 12, )\n",
    "plt.ylabel('Neighbour lot size in square feet', fontsize = 12);"
   ]
  },
  {
   "cell_type": "markdown",
   "id": "2e1b2423-7079-4ef3-bd28-369f004f1338",
   "metadata": {},
   "source": [
    "Due to the high number of outliers, it is hard to see if there is any correlation. For the next plot, we adjust the size of the X-Axis to the size of the y-Axis, meaning all data points above 500,000 sqft will be removed. \n",
    " \n"
   ]
  },
  {
   "cell_type": "code",
   "execution_count": null,
   "id": "d0b85522-f65a-458c-a4f4-e70b8b49051f",
   "metadata": {},
   "outputs": [],
   "source": [
    "df_small = df.query('sqft_lot < 500000')\n",
    "sns.scatterplot(data=df_small, x='sqft_lot', y='sqft_lot15')\n",
    "plt.title('Correlation of lot size and lot size of neighbouring houses', fontsize=18)\n",
    "plt.xlabel('Lot size in square feet', fontsize = 12, )\n",
    "plt.ylabel('Neighbour lot size in square feet', fontsize = 12)\n",
    "plt.text(-5, 500000, \"Pearsons's R = 0.72\", fontsize = 14);"
   ]
  },
  {
   "cell_type": "markdown",
   "id": "223d9f82-60e8-4354-862d-2848a09a395a",
   "metadata": {},
   "source": [
    "This plot does not really make it clearer. The Pearson correlation coefficient will be calculated and plotted to get a final idea about if these values within the two columns correlate with each other. "
   ]
  },
  {
   "cell_type": "code",
   "execution_count": null,
   "id": "9433e797-4c13-4a3e-83e4-b32e7c03c44c",
   "metadata": {},
   "outputs": [],
   "source": [
    "corr = np.corrcoef(df.sqft_lot, df.sqft_lot15)\n",
    "#as a result we get a matrix that shows the correlation of the two columns and the column itself (which would be 1)\n",
    "corr[1,0].round(2)\n",
    "\n",
    "#so there is a positive correlation between the variables in the two columns. This number is added to the plot above. "
   ]
  },
  {
   "cell_type": "markdown",
   "id": "a564572f-4e8e-44a3-9cca-7e741ca3de6a",
   "metadata": {},
   "source": [
    "### Analyze if there is a correlation between number of bathrooms and age \n",
    "What might also be interesting is how the amount of bathrooms correlates with the age of the house as was indicated in the heatmap above. \n"
   ]
  },
  {
   "cell_type": "code",
   "execution_count": null,
   "id": "8b03a7da-7e5a-4b87-97f4-984c7c4ebd73",
   "metadata": {},
   "outputs": [],
   "source": [
    "sns.scatterplot(data=df, x='bathrooms', y='yr_built')\n",
    "plt.title('Correlation of the number of bathrooms with house age', fontsize=18)\n",
    "plt.xlabel('Number of bathrooms', fontsize = 12, )\n",
    "plt.ylabel('Building year of the house', fontsize = 12);"
   ]
  },
  {
   "cell_type": "markdown",
   "id": "0a77b998-c34d-4e12-9135-782b11c78903",
   "metadata": {},
   "source": [
    "There is no correlation of the number of bathrooms with the age of the house, especially for less than four bathrooms. Interestingly, the very old houses do not really have more than 6 bathrooms which should be kept in mind to meet the stakeholder's criteria. "
   ]
  },
  {
   "cell_type": "markdown",
   "id": "61454cf5-c1e8-4670-9f2b-4ce6f311046d",
   "metadata": {},
   "source": [
    "One last thing that would be interesting to see is how the overall condition of the house correlates with the age. I would assume that the older houses are proably also not that good in shape which should be considered when thinking about buying a house. "
   ]
  },
  {
   "cell_type": "code",
   "execution_count": null,
   "id": "cc3e2275-d99a-4447-aa22-31aee67d5255",
   "metadata": {},
   "outputs": [],
   "source": [
    "#look at the distribution of house age for the different condition categories\n",
    "#show mean of the building year with standard deviation grouped by condition category \n",
    "#The condition 1 is associated with poor condition and 5 with very good condition (https://info.kingcounty.gov/assessor/esales/Glossary.aspx?type=r#a)\n",
    "\n",
    "df.condition.sort_values(ascending = False)\n",
    "sns.barplot(data = df, x = 'condition', y = 'yr_built', color = 'lightblue', estimator = np.mean, ci = 'sd', capsize = .2)\n",
    "plt.title('Correlation of house age with the overall condition', fontsize=18)\n",
    "plt.xlabel('Overall condition', fontsize = 12, )\n",
    "plt.ylabel('Building year of the house', fontsize = 12)\n",
    "plt.ylim(1900, 2025);"
   ]
  },
  {
   "cell_type": "code",
   "execution_count": null,
   "id": "6fdc9ed8-84d8-4e80-ac78-4eee7a5ce2fa",
   "metadata": {},
   "outputs": [],
   "source": [
    "#Here we want to get a table with the mean numbers for the plot above \n",
    "df_year_condition_mean = df[['condition', 'yr_built']].groupby('condition').mean().round().reset_index()\n",
    "df_year_condition_mean"
   ]
  },
  {
   "cell_type": "code",
   "execution_count": null,
   "id": "c751880d-112f-40c1-8638-05c23d733d04",
   "metadata": {},
   "outputs": [],
   "source": [
    "df[['yr_built']].query('yr_built < 1972').count()"
   ]
  },
  {
   "cell_type": "markdown",
   "id": "fc0e2d58-a34e-4d27-ae43-c2bffb6f0c4f",
   "metadata": {},
   "source": [
    "In the graph and in the table we see that the houses which are in category 1 were built in average in the year 1930 compared to for example 1979 in category 3. This indicates that in the worse category many houses are quite old. This should be kept in mind when searching for the perfect place. \n",
    "Since nearly 50% of the houses in the dataset are considered old, there should be enough houses available to find an old house which is also in good shape.\n"
   ]
  },
  {
   "cell_type": "markdown",
   "id": "5f7626f4-ea1b-4bca-8a5b-7be72ccf3fe9",
   "metadata": {},
   "source": [
    "# 2) Filtering the dataset according to the stakeholder's taste \n",
    "After the initial investigation is done, now the more specific analysis and visualization part is following in order to find the perfect area where to look for houses for the stakeholder 'Jacob Phillips'. \n",
    "To meet the requirements of the client we need to conduct the following tasks: \n",
    "- the client is interested in a house with more than 4 bathrooms -> filter the dataset according to this criterium \n",
    "- he does not want a waterfront -> this is the second filter that needs to be applied \n",
    "- the lot has to be big -> determine a treshhold to fit the tennis court and swimming pool \n",
    "- the house should be historic -> again analyze this column to set the treshold. Also on this website (https://www.rocketmortgage.com/learn/buying-a-historic-home) a historic house is defined as being older than 50 years among other criteria. Here, a historic house is defined as being more than 50 years old."
   ]
  },
  {
   "cell_type": "markdown",
   "id": "aae47cf7-efb2-499a-877d-717389646ac1",
   "metadata": {},
   "source": [
    "### Remove all houses with a waterfront \n",
    "In this case we need to filter our dataset using the 'query' approach and only select the houses that do not have the waterfront (equals == 0). We will call the new dataframe 'df_no_water'.\n"
   ]
  },
  {
   "cell_type": "code",
   "execution_count": null,
   "id": "ce333563-3f65-4c7a-bf03-be68ed38bf47",
   "metadata": {},
   "outputs": [],
   "source": [
    "#Only select the houses that are not located at the waterfront \n",
    "\n",
    "df_no_water = df.query('waterfront == 0')\n",
    "df_no_water.head(2)"
   ]
  },
  {
   "cell_type": "markdown",
   "id": "c2a0fed8-a6fd-45a0-8d8f-67c230753770",
   "metadata": {},
   "source": [
    "### Select for the houses that are considered as historic\n",
    "As a next step we want to filter for the historic houses by applying the condition that the houses have to be older than 50 years. Based on the fact that we have year 2022 the building year of the house would need to be lower than 1972. The new dataframe will be called 'df_no_water_historic'. "
   ]
  },
  {
   "cell_type": "code",
   "execution_count": null,
   "id": "61441d59-c3fe-4cb5-9902-37a2686c4638",
   "metadata": {},
   "outputs": [],
   "source": [
    "#only select for houses which were built before 1972 \n",
    "\n",
    "df_no_water_historic = df_no_water.query('yr_built < 1972')\n",
    "df_no_water_historic.sort_values('yr_built').head(2)"
   ]
  },
  {
   "cell_type": "markdown",
   "id": "e2d5bcc9-269e-4790-b808-b396645ad584",
   "metadata": {},
   "source": [
    "Now this new dataframe contains the first two filters, which are no waterfront and historic. Since the stakeholder ideally wants to find a house with at least 4 bathrooms one more filter is going to be applied to the data set. \n",
    "### Filter out all houses with less or equal four bathrooms\n",
    "The new dataframe will be called 'df_no_water_historic_4'. "
   ]
  },
  {
   "cell_type": "code",
   "execution_count": null,
   "id": "76f5453a-fd9e-473d-aecd-076bc5d2a695",
   "metadata": {},
   "outputs": [],
   "source": [
    "#Next, the dataset is filtered based on the criteria with having equal or more than 4 bathrooms. This will be achieved again with the query function using the dataset that contain no waterfront and historic houses. \n",
    "df_no_water_historic_4 = df_no_water_historic.query('bathrooms >= 4')\n",
    "df_no_water_historic_4.head(2)"
   ]
  },
  {
   "cell_type": "markdown",
   "id": "42f2d970-f8a9-4dc0-a71f-7dd593c3a15b",
   "metadata": {},
   "source": [
    "### Filter dataset for the size of the garden\n",
    "Next, a new column called garden is created which does not contain the size of the house. The average size of the garden is then plotted agains the zipcode to see in which area we have the biggest gardens to get an idea of which regions might be attractive for the stakeholder."
   ]
  },
  {
   "cell_type": "code",
   "execution_count": null,
   "id": "52513048-c641-499a-a4b8-813b49a97f3d",
   "metadata": {},
   "outputs": [],
   "source": [
    "#A new column will be created which is called garden and this one is the lot size subtracted by the size of the house. \n",
    "df_no_water_historic_4.eval('garden = sqft_lot - sqft_living', inplace = True)\n",
    "df_no_water_historic_4.head(2)"
   ]
  },
  {
   "cell_type": "code",
   "execution_count": null,
   "id": "717e8597-e967-4e57-b319-6acd2f41b246",
   "metadata": {},
   "outputs": [],
   "source": [
    "#For the plot we calculate the average garden size and plot this by zipcode \n",
    "df_garden_mean = df_no_water_historic_4[['garden', 'zipcode']].groupby('zipcode').mean().round().reset_index()\n",
    "df_garden_mean['zipcode'] = df_garden_mean['zipcode'].astype(str)\n",
    "df_garden_mean.sort_values('garden', ascending = False).head(5)"
   ]
  },
  {
   "cell_type": "markdown",
   "id": "002e5736-431c-4347-9789-f295f9f28ac0",
   "metadata": {},
   "source": [
    "This table shows the top 5 areas with the biggest average size of the garden. "
   ]
  },
  {
   "cell_type": "code",
   "execution_count": null,
   "id": "3ebe51eb-a324-4054-8eb3-5f7778e3e18a",
   "metadata": {},
   "outputs": [],
   "source": [
    "#Now we plot the dataset from above using the zipcode on the x-axis and mean garden size on the y-axis\n",
    "sns.barplot(data = df_garden_mean, x=\"zipcode\", y=\"garden\", color = 'lightblue', order = df_garden_mean.sort_values('garden', ascending = False).zipcode)\n",
    "sns.set(rc={'figure.figsize':(10,5)})\n",
    "\n",
    "plt.title('Mean garden size per zipcode', fontsize=18)\n",
    "plt.xlabel('Zipcode', fontsize=16)\n",
    "plt.ylabel('Mean size of garden in sqft', fontsize=16)\n",
    "plt.xticks(rotation = 45, fontsize = 14)\n",
    "plt.yticks(fontsize = 14);"
   ]
  },
  {
   "cell_type": "markdown",
   "id": "7ebfc523-bceb-46ba-9ce4-f90d8bae7e98",
   "metadata": {},
   "source": [
    "So from this graph we can probably select the top five areas that have houses with big gardens, that would fit the stakeholder's interest. \n",
    "The corresponding zipcodes are: 98005, 98003, 98166, 98007 and 98177."
   ]
  },
  {
   "cell_type": "markdown",
   "id": "063e3b37-be89-4e3a-a0f1-103ddece2068",
   "metadata": {},
   "source": [
    "Next, we need to analyse and filter the size of the lot. For this, the stakeholder specified that he wants to have a lot big enough to put a tennis court and a pool. The average size of a tennis court is around 2100 square feet. A medium sized swimming pool is around 600 square feet. So our garden needs to be at least 2700 square feet in size to match the stakeholders requirements. And of course than we there should still be some space left for putting other things like a terrace or garage. \n",
    "To get an idea how much we can filter the size of the garden a histogram for the garden size is generated.\n"
   ]
  },
  {
   "cell_type": "code",
   "execution_count": null,
   "id": "d01ac985-c0ed-4824-b2e3-6b8c9625688e",
   "metadata": {},
   "outputs": [],
   "source": [
    "#To plot the size of the garden and the frequency per category we use a histogram\n",
    "sns.histplot(df_no_water_historic_4.garden,bins=15, color = 'lightblue')\n",
    "sns.set(rc={'figure.figsize':(10,5)})\n",
    "\n",
    "plt.title('Number of houses per Garden size', fontsize=18)\n",
    "plt.xlabel('Garden size in square feet', fontsize=16)\n",
    "plt.ylabel('Number of houses', fontsize=16);"
   ]
  },
  {
   "cell_type": "markdown",
   "id": "b5bdebfb-d315-4f1d-b037-d0996eaf1d3f",
   "metadata": {},
   "source": [
    "Based on the distribution and the possibility of having enough space for a swimming pool and a tennis court, the dataset was further filtered for the size of the garden. Therefore we select all houses that have a lot bigger than 5000 square feet. To have even a bit extra space for a terrace and plants."
   ]
  },
  {
   "cell_type": "code",
   "execution_count": null,
   "id": "979cd4b4-2cdf-4143-be61-e7791f55d35c",
   "metadata": {},
   "outputs": [],
   "source": [
    "#Only keep the houses which have a garden bigger than 5000 sqft\n",
    "df_no_water_4_historic_garden = df_no_water_historic_4.query('garden > 5000')\n",
    "df_no_water_4_historic_garden.head(2)"
   ]
  },
  {
   "cell_type": "markdown",
   "id": "05483f2c-760c-4556-9526-8891879b8375",
   "metadata": {},
   "source": [
    "# 3) Show the geographic location of the selected houses \n",
    "One last criteria of the stakeholder is to have a golf area nearby. To analyse this, the location of the remaining houses will be shown on a geographical map. \n",
    "Since the stakeholder is looking for a house located close to a golf area, the golf resorst in Seattle were located using GoogleMaps and their coordinates stort in a table outside of this notebook. A 2 km radius was drawn around the golf resort areas to see how many houses are located within or close to this radius. All houses that are located within the radius are defined as being nearby a golf resort. "
   ]
  },
  {
   "cell_type": "code",
   "execution_count": null,
   "id": "b12e228b-3146-4cb9-bbb0-49c5a133cee1",
   "metadata": {},
   "outputs": [],
   "source": [
    "#The locations of the golf resorts have been stored in a .csv file in the data folder. The file is imported here.  \n",
    "\n",
    "df_golf = pd.read_csv('data/Golf.csv', delimiter = ';')\n",
    "df_golf.head(2)"
   ]
  },
  {
   "cell_type": "code",
   "execution_count": null,
   "id": "c732cfad-b6e2-4d52-ac27-ebe3b0b802c9",
   "metadata": {},
   "outputs": [],
   "source": [
    "#The map was generated using the folium package and the approach posted by Mina Jambajantsan (https://medium.com/@mina_77131/folium-matplotlib-geopanda-maps-cf503d27c97a)\n",
    "#The map automatically starts at the Seatlle City Center with the parameters given below \n",
    "\n",
    "#First the start point, zoom options and map style are chosen \n",
    "\n",
    "house_map_1 = folium.Map(location=[47.6062, -122.3321],\n",
    "                    zoom_start=13,\n",
    "                    tiles='openstreetmap')\n",
    "\n",
    "#with the popup_text founction when clicking on each symbol we get the information about the ID of the house\n",
    "#a for loop is used to iterate through all entries of the data frame and derive the parameters below \n",
    "\n",
    "for i in df_no_water_4_historic_garden.index:\n",
    "    lat = df_no_water_4_historic_garden.lat[i]\n",
    "    long = df_no_water_4_historic_garden.long[i]\n",
    "    House_id = df_no_water_4_historic_garden.id[i]\n",
    "    popup_text = \"House ID: {}\".format(House_id)\n",
    "    popup = folium.Popup(popup_text, parse_html=True)\n",
    "    marker = folium.Marker([lat, long], popup=popup).add_to(house_map_1)\n",
    "\n",
    "    \n",
    "#iterate trough the list of golf resorts and add them to the map. Use the red symbol with the flag to mark their location.   \n",
    "\n",
    "\n",
    "for i in df_golf.index: \n",
    "    lat_golf = df_golf.lat[i]\n",
    "    long_golf = df_golf.long[i]\n",
    "    marker_golf = folium.Marker([lat_golf, long_golf],popup='Golf Resort',icon=folium.Icon(color='red',icon=\"flag\")).add_to(house_map_1)\n",
    "    marker_golf = folium.Circle([lat_golf, long_golf],radius=2000,color='crimson',fill=False,).add_to(house_map_1)\n",
    "\n",
    "#A marker for the city center is added. Here the Harborview Medical Center was chosen.                   \n",
    "folium.Marker(location=[47.605807526291144, -122.32454294176918],popop = 'City Center', icon = folium.Icon(color = 'purple', icon = 'map-marker')).add_to(house_map_1)\n",
    "\n",
    "house_map_1"
   ]
  },
  {
   "cell_type": "markdown",
   "id": "ea717835-0604-452e-9038-d1ddc8823dad",
   "metadata": {},
   "source": [
    "Link to the output file: file:///Users/tamarapallien/Downloads/Map_radius%20.html "
   ]
  },
  {
   "cell_type": "markdown",
   "id": "ed4fcd8c-28e5-491b-86ee-a1725c7f62ec",
   "metadata": {},
   "source": [
    "So in this map it is made clear which houses are located close to a golf resort. In this case the houses located in the north from the city center have four houses that are within the 2 km radius of the golf resort (House ID: 3304700130, 3585900500, 2303900035, 3585901085. As a last step I want to group the houses according to the size of their gardens and give them different colors, so the client can decide which area probably holds the biggest houses. "
   ]
  },
  {
   "cell_type": "code",
   "execution_count": null,
   "id": "3851c7af-4a54-46ca-bef9-b25ea5fc61f5",
   "metadata": {},
   "outputs": [],
   "source": [
    "#Print out the min and max values in our list to use this for the colorcode \n",
    "print(df_no_water_4_historic_garden.garden.min())\n",
    "print(df_no_water_4_historic_garden.garden.max())\n",
    "\n",
    "#Based on this we select a range from 5000 to 65000 sqft"
   ]
  },
  {
   "cell_type": "code",
   "execution_count": null,
   "id": "9d0ba7de-50c6-41dd-be76-2b0995d6ca16",
   "metadata": {},
   "outputs": [],
   "source": [
    "#To make sure there is no outlier, we create a boxplot.\n",
    "#Since there are a couple of outliers and because the client wants a big garden, I leave those ones in. \n",
    "\n",
    "df_no_water_4_historic_garden.garden.plot(kind = 'box')\n",
    "\n",
    "plt.title('Distribution of the garden sizes', fontsize=18)\n",
    "plt.ylabel('Size of the Garden', fontsize=16);"
   ]
  },
  {
   "cell_type": "code",
   "execution_count": null,
   "id": "63d0a20b-276d-4f43-a5b2-93a1ed4d1b34",
   "metadata": {},
   "outputs": [],
   "source": [
    "#Assign orange for small garden to brown for big garden \n",
    "#The code to get the colored circles based on the garden size was found on this page: https://levelup.gitconnected.com/visualizing-housing-data-with-folium-maps-4718ed3452c2\n",
    "\n",
    "colormap = cm.LinearColormap(colors=['orange', 'gray', 'brown'], vmin=5000, vmax=65000)\n",
    "colormap.caption = ('Size of garden in sqft')\n",
    "\n",
    "house_map_2 = folium.Map(location=[47.6062, -122.3321],\n",
    "                    zoom_start=13,\n",
    "                    tiles='openstreetmap')\n",
    "      \n",
    "\n",
    "for i in range(len(df_no_water_4_historic_garden)):\n",
    "    folium.Circle(\n",
    "        location=[df_no_water_4_historic_garden.iloc[i]['lat'], df_no_water_4_historic_garden.iloc[i]['long']],\n",
    "        radius=1000,\n",
    "        fill=True,\n",
    "        color=colormap(df_no_water_4_historic_garden.iloc[i]['garden']),\n",
    "        fill_opacity=3,\n",
    "    ).add_to(house_map_2)\n",
    "\n",
    "for i in df_golf.index: \n",
    "    lat_golf = df_golf.lat[i]\n",
    "    long_golf = df_golf.long[i]\n",
    "    marker_golf = folium.Marker([lat_golf, long_golf],popup='Golf Resort',icon=folium.Icon(color='red',icon=\"flag\")).add_to(house_map_2)\n",
    "    \n",
    "folium.Marker(location=[47.605807526291144, -122.32454294176918],popop = 'City Center', icon = folium.Icon(color = 'purple', icon = 'map-marker')).add_to(house_map_2)\n",
    "\n",
    "house_map_2.add_child(colormap)\n",
    "house_map_2"
   ]
  },
  {
   "cell_type": "markdown",
   "id": "225e839f-d9f1-4db5-acf2-d37b96ed0984",
   "metadata": {},
   "source": [
    "So in this map we can see that the very big houses are located in the north and the south of the city center, but only the ones in the north are the ones closely located to the golf resort. So this area might be the most interesting for the stakeholder. \n",
    "Even though the stakeholder is not interested in the prize, it might be interesting to see how the distribution of the price is in the different areas. \n"
   ]
  },
  {
   "cell_type": "code",
   "execution_count": null,
   "id": "178bad0f-dfdc-457b-a1bd-4ccd4663a0fa",
   "metadata": {},
   "outputs": [],
   "source": [
    "#First the price range has to be determined. For this we first plot the price to make that we do not have a huge outlier. \n",
    "df_no_water_4_historic_garden.price.plot(kind = 'box')\n",
    "plt.title('Distribution of the price ranges', fontsize=18)\n",
    "plt.ylabel('Price in USD', fontsize=16);"
   ]
  },
  {
   "cell_type": "code",
   "execution_count": null,
   "id": "9526fe39-af6e-497b-b0a7-15f99a74640f",
   "metadata": {},
   "outputs": [],
   "source": [
    "#Indeed there is a huge outlier. So let us analyse the top 5 values and then decide for the maximum value\n",
    "df_no_water_4_historic_garden[['price']].sort_values('price', ascending = False).head(5)\n",
    "\n",
    "#So the second price is at around 3.5 Mio USD. So we select this as the maximum number. "
   ]
  },
  {
   "cell_type": "code",
   "execution_count": null,
   "id": "a2612766-f64a-4ba3-bd44-4f8540de5829",
   "metadata": {},
   "outputs": [],
   "source": [
    "#Select the minimum number for the price range\n",
    "df_no_water_4_historic_garden.price.min()\n",
    "\n",
    "#So we select a price range from 250000 to 3500000 USD"
   ]
  },
  {
   "cell_type": "code",
   "execution_count": null,
   "id": "f2e71e11-b0ff-44f9-b12a-6a367ccc80ee",
   "metadata": {},
   "outputs": [],
   "source": [
    "#Assign green for cheaper prices to red for high price\n",
    "\n",
    "\n",
    "colormap = cm.LinearColormap(colors=['green', 'yellow', 'red'], vmin=250000, vmax=3500000)\n",
    "colormap.caption = ('Price in USD')\n",
    "\n",
    "house_map_3 = folium.Map(location=[47.6062, -122.3321],\n",
    "                    zoom_start=13,\n",
    "                    tiles='openstreetmap')\n",
    "      \n",
    "\n",
    "for i in range(len(df_no_water_4_historic_garden)):\n",
    "    folium.Circle(\n",
    "        location=[df_no_water_4_historic_garden.iloc[i]['lat'], df_no_water_4_historic_garden.iloc[i]['long']],\n",
    "        radius=1000,\n",
    "        fill=True,\n",
    "        color=colormap(df_no_water_4_historic_garden.iloc[i]['price']),\n",
    "        fill_opacity=3,\n",
    "    ).add_to(house_map_3)\n",
    "\n",
    "for i in df_golf.index: \n",
    "    lat_golf = df_golf.lat[i]\n",
    "    long_golf = df_golf.long[i]\n",
    "    marker_golf = folium.Marker([lat_golf, long_golf],popup='Golf Resort',icon=folium.Icon(color='red',icon=\"flag\")).add_to(house_map_3)\n",
    "\n",
    "folium.Marker(location=[47.605807526291144, -122.32454294176918],popop = 'City Center', icon = folium.Icon(color = 'purple', icon = 'map-marker')).add_to(house_map_3)\n",
    "\n",
    "house_map_3.add_child(colormap)\n",
    "house_map_3"
   ]
  },
  {
   "cell_type": "markdown",
   "id": "bf274999-4e04-4cf5-a745-be52726d2cf7",
   "metadata": {},
   "source": [
    "As expected the houses of in the area of choice are among the bit pricier ones. But still, they are cheaper then the ones in the city center which are also smaller. "
   ]
  },
  {
   "cell_type": "markdown",
   "id": "f4b16c5f-331c-40b3-95c8-7d760631bc51",
   "metadata": {},
   "source": [
    "So one can see that for the houses in the north, that also meet the other criteria, three of them are within the 2 km radius from the Golf Resort and three other are nearby. \n",
    "Based on the house IDs that for the houses which are located in the North at the shoreline, let us check which zipcode area they are in. "
   ]
  },
  {
   "cell_type": "code",
   "execution_count": null,
   "id": "f6404df2-b608-47a4-b9b9-c42eb9876f81",
   "metadata": {},
   "outputs": [],
   "source": [
    "df_final_zip = df_no_water_4_historic_garden[['id', 'zipcode', 'price', 'condition','yr_built']].query('id == 3304700130 or id == 3585900500 or id == 2303900035 or id == 3585901085').sort_values('price')\n",
    "df_final_zip"
   ]
  },
  {
   "cell_type": "markdown",
   "id": "2538a072-12f3-42b7-b0e0-d9628856635a",
   "metadata": {},
   "source": [
    "Yay, we found the best area for our stakeholder. "
   ]
  },
  {
   "cell_type": "markdown",
   "id": "90058d54-2904-4450-ab8d-6ddc50683cb0",
   "metadata": {},
   "source": [
    "# 4) Conclusion and recommendation \n",
    "\n",
    "Based on all the filters that have been applied the ideal area for the stakeholder 'Jacob Phillips' would be houses in the zipcode area 98177. These houses meet the following criteria: \n",
    "- 50% of the houses that have been sold there are within a 2km radius to a Golf resort \n",
    "- The area is among the top five areas with the biggest gardens (average garden size = 29,000 sqft)\n",
    "- The houses are not as cheap as in the south but are still in the medium price range (from 1.5 to 3 Mio USD)\n",
    "- the selected houses were at least in the medium condition class \n",
    "\n",
    "Further things that could be analyzed: \n",
    "- how far away are the houses from the city center? \n",
    "- what is the best time of the year to buy a house? \n",
    "- what are the other houses in the area looking like (for example those ones with less bathrooms)? \n",
    "- is there another area with smaller houses that might also fit the other criteria (historic, golf, big garden)(probably start with the other areas that are within the top five garden sizes)? "
   ]
  }
 ],
 "metadata": {
  "kernelspec": {
   "display_name": "Python 3 (ipykernel)",
   "language": "python",
   "name": "python3"
  },
  "language_info": {
   "codemirror_mode": {
    "name": "ipython",
    "version": 3
   },
   "file_extension": ".py",
   "mimetype": "text/x-python",
   "name": "python",
   "nbconvert_exporter": "python",
   "pygments_lexer": "ipython3",
   "version": "3.9.8"
  }
 },
 "nbformat": 4,
 "nbformat_minor": 5
}
